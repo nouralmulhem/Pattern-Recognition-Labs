{
 "cells": [
  {
   "cell_type": "markdown",
   "metadata": {},
   "source": [
    "# Bayesian Classifier\n",
    "In this lab, you will implement and assess the performance of the Bayesian Classifier.\n",
    "\n",
    "## Lab Instructions:\n",
    "1. Read the explanation above each requirement very well\n",
    "2. Read the requirement very well before jumping into the code.\n",
    "3. Some requirements have essay questions in them, make sure you do NOT miss them.\n",
    "4. PLEASE Read the hints! They are clear and made to help you complete the requirement as fast as you should "
   ]
  },
  {
   "cell_type": "code",
   "execution_count": 52,
   "metadata": {},
   "outputs": [],
   "source": [
    "#### always keep all your imports in the first cell ####\n",
    "import numpy as np\n",
    "import matplotlib.pyplot as plt\n",
    "from mpl_toolkits.mplot3d import Axes3D\n",
    "import csv\n",
    "import math\n",
    "import pandas as pd\n",
    "\n",
    "%matplotlib qt"
   ]
  },
  {
   "cell_type": "markdown",
   "metadata": {},
   "source": [
    "## Requirement\n",
    "\n",
    "In this requirement, you will build the Bayesian Classifier and test its performance. \n",
    "\n",
    "You are provided with a data file **data1.csv** containing list of points and their corresponding classes. The format of the data files is shown in the table below.\n",
    "\n",
    "| |Class|Feature 1|Feature 1| \n",
    "|-|-|-|-|\n",
    "|Point#1|1|0.271633|-2.93224|\n",
    "|Point#2|1|7.020786|-1.98966|\n",
    "|Point#3|1|2.901827|-0.91291|\n",
    "\n",
    "\n",
    "You are also provided with a test data file **test_data.csv**. The file contains test points that are unlabelled (i.e. the class to which they belong is unknown)."
   ]
  },
  {
   "cell_type": "code",
   "execution_count": 53,
   "metadata": {},
   "outputs": [
    {
     "data": {
      "text/html": [
       "<div>\n",
       "<style scoped>\n",
       "    .dataframe tbody tr th:only-of-type {\n",
       "        vertical-align: middle;\n",
       "    }\n",
       "\n",
       "    .dataframe tbody tr th {\n",
       "        vertical-align: top;\n",
       "    }\n",
       "\n",
       "    .dataframe thead th {\n",
       "        text-align: right;\n",
       "    }\n",
       "</style>\n",
       "<table border=\"1\" class=\"dataframe\">\n",
       "  <thead>\n",
       "    <tr style=\"text-align: right;\">\n",
       "      <th></th>\n",
       "      <th>0</th>\n",
       "      <th>1</th>\n",
       "      <th>2</th>\n",
       "    </tr>\n",
       "  </thead>\n",
       "  <tbody>\n",
       "    <tr>\n",
       "      <th>0</th>\n",
       "      <td>3.0</td>\n",
       "      <td>3.272089</td>\n",
       "      <td>0.726774</td>\n",
       "    </tr>\n",
       "    <tr>\n",
       "      <th>1</th>\n",
       "      <td>1.0</td>\n",
       "      <td>-6.937777</td>\n",
       "      <td>-6.449828</td>\n",
       "    </tr>\n",
       "    <tr>\n",
       "      <th>2</th>\n",
       "      <td>3.0</td>\n",
       "      <td>6.056029</td>\n",
       "      <td>0.487195</td>\n",
       "    </tr>\n",
       "    <tr>\n",
       "      <th>3</th>\n",
       "      <td>1.0</td>\n",
       "      <td>-2.347665</td>\n",
       "      <td>-3.819760</td>\n",
       "    </tr>\n",
       "    <tr>\n",
       "      <th>4</th>\n",
       "      <td>2.0</td>\n",
       "      <td>-1.148770</td>\n",
       "      <td>12.649768</td>\n",
       "    </tr>\n",
       "    <tr>\n",
       "      <th>...</th>\n",
       "      <td>...</td>\n",
       "      <td>...</td>\n",
       "      <td>...</td>\n",
       "    </tr>\n",
       "    <tr>\n",
       "      <th>1145</th>\n",
       "      <td>1.0</td>\n",
       "      <td>-3.701658</td>\n",
       "      <td>-4.832663</td>\n",
       "    </tr>\n",
       "    <tr>\n",
       "      <th>1146</th>\n",
       "      <td>1.0</td>\n",
       "      <td>-1.557383</td>\n",
       "      <td>-4.379275</td>\n",
       "    </tr>\n",
       "    <tr>\n",
       "      <th>1147</th>\n",
       "      <td>1.0</td>\n",
       "      <td>-3.286869</td>\n",
       "      <td>-5.797700</td>\n",
       "    </tr>\n",
       "    <tr>\n",
       "      <th>1148</th>\n",
       "      <td>2.0</td>\n",
       "      <td>-1.152378</td>\n",
       "      <td>12.156418</td>\n",
       "    </tr>\n",
       "    <tr>\n",
       "      <th>1149</th>\n",
       "      <td>2.0</td>\n",
       "      <td>-1.255715</td>\n",
       "      <td>6.495723</td>\n",
       "    </tr>\n",
       "  </tbody>\n",
       "</table>\n",
       "<p>1150 rows × 3 columns</p>\n",
       "</div>"
      ],
      "text/plain": [
       "        0         1          2\n",
       "0     3.0  3.272089   0.726774\n",
       "1     1.0 -6.937777  -6.449828\n",
       "2     3.0  6.056029   0.487195\n",
       "3     1.0 -2.347665  -3.819760\n",
       "4     2.0 -1.148770  12.649768\n",
       "...   ...       ...        ...\n",
       "1145  1.0 -3.701658  -4.832663\n",
       "1146  1.0 -1.557383  -4.379275\n",
       "1147  1.0 -3.286869  -5.797700\n",
       "1148  2.0 -1.152378  12.156418\n",
       "1149  2.0 -1.255715   6.495723\n",
       "\n",
       "[1150 rows x 3 columns]"
      ]
     },
     "execution_count": 53,
     "metadata": {},
     "output_type": "execute_result"
    }
   ],
   "source": [
    "# TODO [1] : Read the file 'data1.csv' into the variable data.\n",
    "# data contains the training data together with labelled classes.\n",
    "def read_data(file_name):\n",
    "    ## HINT 1: How is the data ordered in the file?\n",
    "    ## HINT 2: Do you need to cast the data you read from the file?\n",
    "    data = None\n",
    "    data = pd.read_csv(file_name, sep=',', header=None)\n",
    "    return data\n",
    "\n",
    "read_data('data1.csv')\n"
   ]
  },
  {
   "cell_type": "code",
   "execution_count": 54,
   "metadata": {},
   "outputs": [
    {
     "data": {
      "text/plain": [
       "(             0          1\n",
       " 0    10.701414   3.872536\n",
       " 1    -3.818318  -5.009778\n",
       " 2    -3.570719   9.960362\n",
       " 3     4.943090  -0.015394\n",
       " 4     4.260826  -0.613494\n",
       " ..         ...        ...\n",
       " 445  12.701387   4.841707\n",
       " 446   8.134124   8.882378\n",
       " 447  -2.024167  11.642334\n",
       " 448   1.069083   1.272935\n",
       " 449   9.662366  -2.511302\n",
       " \n",
       " [450 rows x 2 columns],\n",
       "        0\n",
       " 0    3.0\n",
       " 1    1.0\n",
       " 2    2.0\n",
       " 3    3.0\n",
       " 4    3.0\n",
       " ..   ...\n",
       " 445  3.0\n",
       " 446  3.0\n",
       " 447  2.0\n",
       " 448  3.0\n",
       " 449  3.0\n",
       " \n",
       " [450 rows x 1 columns])"
      ]
     },
     "execution_count": 54,
     "metadata": {},
     "output_type": "execute_result"
    }
   ],
   "source": [
    "def read_test_data():\n",
    "    \n",
    "    # TODO [2.A]: Read the file 'test_data.csv' into the variable test_data\n",
    "    # test_data contains the unlabelled test class.\n",
    "    ## HINT: Do you need to cast the data you read from the file?\n",
    "\n",
    "    test_data = pd.read_csv('test_data.csv', sep=',', header=None)\n",
    "    \n",
    "    # TODO [2.B]: Read the file 'test_data_true.csv' into the variable test_data_true\n",
    "    # test_data_true contains the actual classes of the test instances, which you will compare\n",
    "    # against your predicted classes.\n",
    "    ## HINT: Do you need to cast the data you read from the file?\n",
    "\n",
    "    test_data_true = pd.read_csv('test_data_true.csv', sep=',', header=None)\n",
    "    return test_data, test_data_true\n",
    "\n",
    "read_test_data()"
   ]
  },
  {
   "cell_type": "markdown",
   "metadata": {},
   "source": [
    "### Machine Learning Terminlology\n",
    "Machine learning problems use common termonology (names and notiations) to refer to certain things. It is useful to use this termonology throughout your code to make it readable.\n",
    "\n",
    "| | |\n",
    "|:-|:--- |\n",
    "|$M$:|A scalar; represents the number of training points in the training set.|\n",
    "|$K$:|A scalar; represents the number of test points in the test set.|\n",
    "|$N$:|A scalar; represents the number of features of training set/test set (dimensionality of data).|\n",
    "|$X$:|A numpy array of shape $(M \\times N)$ containing the training data **without** its labels, where $M$ is the number of training points and $N$ is the number of features in the dataset (or dimensionality of features). <br/> Each element in $X$ is a tuple $(X_1, X_2, \\dots, X_N)$ where $N$ is the number of features in the dataset.| \n",
    "|$X_{test}$:| A numpy array of shape $(K \\times N)$ containing the test data, where $K$ is the number of test points and $N$ is the number of features in the dataset (or dimensionality of features). <br/> Each element in $X_{test}$ is a tuple $(X_1, X_2, \\dots, X_N)$ where $N$ is the number of features in the dataset. <br/> The number of columns in $X_{test}$ is equal to the number of columns in $X$ (because they have the same number of features). However, the number of rows in $X_{test}$ is different to the number of rows in $X$.|\n",
    "|**$Y$:| A numpy array of shape $(M \\times 1)$ containing the labels of the training data. Each row in $Y$ corresponds to the label of the training point in $X$.<br/> For example, $Y[j]$ corresponds to the label of the training point $X[j]$ where $0<=j<M$.|\n",
    "\n"
   ]
  },
  {
   "cell_type": "code",
   "execution_count": 55,
   "metadata": {},
   "outputs": [
    {
     "name": "stdout",
     "output_type": "stream",
     "text": [
      "[3. 1. 3. ... 1. 2. 2.]\n"
     ]
    }
   ],
   "source": [
    "# TODO [3]: Fill the values of M, K, N, X, XTest, and Y respectively.\n",
    "# Do not fill them manually (i.e. do not set N = 3). They should be generic for any input file.  \n",
    "training_data = read_data('data1.csv')\n",
    "test_data, test_data_true = read_test_data()\n",
    "\n",
    "numClasses = 3 \n",
    "M = len(training_data)\n",
    "N = len(training_data.columns) - 1\n",
    "K = len(test_data)\n",
    "\n",
    "X = np.asarray(training_data.iloc[0:,1:])\n",
    "X_Test = np.asarray(test_data.iloc[0:,0:])\n",
    "Y = np.asarray(training_data.iloc[0:,0])\n",
    "print(Y)"
   ]
  },
  {
   "cell_type": "code",
   "execution_count": 56,
   "metadata": {},
   "outputs": [],
   "source": [
    "# TODO [4]: Draw a scatter plot for traning data, where each class is coloured by the colour corresponding \n",
    "#           to its index in the colors array.\n",
    "# Class 1 should be coloured in red, Class 2 should be coloured in green, and Class 3 should be coloured in blue.\n",
    "# Hint: We have done a similar plot in the previous lab. What operation do we need to select training data \n",
    "#       belonging to a certain class?\n",
    "\n",
    "colors = ['r', 'g', 'b', 'c', 'y']\n",
    "classes = ['class 1', 'class 2', 'class 3']\n",
    "\n",
    "def plot(x, y, title='', xlabel='', ylabel='',  color_style_str='', label_str='', figure=None, axis=None):\n",
    "    axis.set_title(title)\n",
    "    axis.set_xlabel(xlabel)\n",
    "    axis.set_ylabel(ylabel)\n",
    "\n",
    "    axis.scatter(x, y, c = color_style_str, label = label_str)\n",
    "\n",
    "    handles, labels = axis.get_legend_handles_labels()\n",
    "\n",
    "    unique = list(set(labels))\n",
    "    handles = [handles[labels.index(u)] for u in unique]\n",
    "    labels = [labels[labels.index(u)] for u in unique]\n",
    "\n",
    "    axis.legend(handles, labels)\n",
    "\n",
    "    figure.canvas.draw()\n",
    "\n",
    "fig = plt.figure()\n",
    "ax = fig.add_subplot(111)\n",
    "for i in range(3):\n",
    "    class1_data = X[np.where(Y == i+1)] \n",
    "    plot(class1_data[:, 0], class1_data[:, 1], title='training set',\n",
    "            xlabel='Feature x.', ylabel='Feature y', color_style_str=colors[i],\n",
    "            label_str=classes[i],\n",
    "            figure=fig, axis=ax)\n",
    "plt.show()"
   ]
  },
  {
   "cell_type": "code",
   "execution_count": 57,
   "metadata": {},
   "outputs": [
    {
     "data": {
      "text/plain": [
       "'\\n    Your Answer:\\n    features of class 1 data and class 3 might overlap\\n'"
      ]
     },
     "execution_count": 57,
     "metadata": {},
     "output_type": "execute_result"
    }
   ],
   "source": [
    "## What do you notice about the plot? (Write everything you can think of)\n",
    "'''\n",
    "    Your Answer:\n",
    "    features of class 1 data and class 3 might overlap\n",
    "''' "
   ]
  },
  {
   "cell_type": "markdown",
   "metadata": {},
   "source": [
    "### Bayesian Classifier\n",
    "The Bayesian Classifier calculates the probability of the test point belonging to each class, then the class with highest probability is assigned to the test point.\n",
    "\n",
    "Classification of $x_{test}$ = $argmax_{i} P\\big(C_i|x_{test}\\big)$ = $argmax_{i} P(x|C_i) * P(C_i)$\n",
    "\n",
    "* $P(C_i|x_{test})$: Posterior probability\n",
    "* $P(x|C_i)$: Class-conditional probability (or distribution)\n",
    "* $P(C_i)$: Class apriori probability\n",
    "                \n",
    "**Note that** $P(C_i|x_{test}) \\neq P(x_{test}|C_i) * P(C_i)$. Instead,  $P(C_i|x_{test}) = \\frac{P(x_{test}|C_i) * P(C_i)}{P(x_{test})}$. However, when we compare multiple classes, the denominator $P(x_{test})$ is independent of the class $i$ and can be regarded as normalizing factor.\n",
    "\n",
    "**We start by** computing statistical parameters about each class from the data. \n",
    "\n",
    "For each class, we are interested in **three** parameters that will be used for calculating the Gaussian class-conditional distribution and the posterior probability.\n",
    "\n",
    "These parameters are:\n",
    "\n",
    "|||\n",
    "|:-|:-|\n",
    "|**Class Apriori Probability: ($P_C$)**| A scalar; the probability of class occurence (how frequent this class appears in the training data)|\n",
    "|**Class Mean: ($\\mu$)**| A vector of shape $(N \\times 1)$, it is the expected value (mean) calculated from the training points of each class.|\n",
    "|**Class Covariance Matrix: ($\\Sigma$)**| A square symmetric matrix of shape $(N \\times N)$ representing the covariances between all the feature calculated from the training points of the class. <br/> For example: Matrix element $\\sigma^2_{12}$ is the covariance between the 1st and the 2nd features|\n",
    "\n"
   ]
  },
  {
   "cell_type": "code",
   "execution_count": null,
   "metadata": {},
   "outputs": [],
   "source": [
    "pClasses = [] # A list of size (numClasses, 1) containing the a priori probabilities of each class in the training set.\n",
    "\n",
    "estimate_means = [] # A numpy array of size (numClasses, N) containing the mean points of each class in the training set. \n",
    "                    # HINT: USE NP.MEAN\n",
    "\n",
    "estimate_covariances = [] # A numpy array of size (numClasses, N, N) containing the covariance matrices of each class in the training set.\n",
    "                          # HINT: USE NP.COV (Pay attenention for what it takes as an argument)\n",
    "                             \n",
    "for classIndex in range(numClasses):\n",
    "    # TODO [5]: Estimate the parameters of the Gaussian distributions of the given classes.\n",
    "    # Fill pClasses, estimate_means, and estimate_covariances in this part \n",
    "    # Your code should be vectorized WITHOUT USING A SINGLE FOR LOOP.\n",
    "    pass\n",
    "\n",
    "estimate_means = np.array(estimate_means)\n",
    "estimate_covariances = np.array(estimate_covariances)"
   ]
  },
  {
   "cell_type": "code",
   "execution_count": null,
   "metadata": {
    "scrolled": true
   },
   "outputs": [],
   "source": [
    "### Test your implementation ###\n",
    "### DO NOT CHANGE THIS CODE ###\n",
    "assert len(pClasses) == numClasses,\\\n",
    "        'Incorrect class apriori probability list, it should be of length {}'.format(len(pClasses))\n",
    "assert np.sum(pClasses)==1,\\\n",
    "        'Sum of apriori probabilities should be 1, found {}'.format(np.sum(pClasses))\n",
    "\n",
    "assert estimate_means.shape == (numClasses, N),\\\n",
    "        'Incorrect estimated means, it should be of shape {}'.format((numClasses, N))\n",
    "assert estimate_covariances.shape == (numClasses, N, N),\\\n",
    "        'Incorrect estimate covariance matrices, it should be of shape {}'.format((numClasses, N, N))"
   ]
  },
  {
   "cell_type": "markdown",
   "metadata": {},
   "source": [
    "**The second step** in the classifier is to calculate the class-conditional density using the Gaussian destribution:\n",
    "\n",
    "$P(x|C_i) = \\mathcal{N}(x; \\mu_i, \\Sigma_i) = \\frac{1}{(2\\pi)^{\\frac{N}{2}}|\\Sigma_i|^{\\frac{1}{2}}} exp\\big(\\frac{-1}{2}(x-\\mu_i)^T\\Sigma^{-1}_{i}(x-\\mu_i)\\big)$"
   ]
  },
  {
   "cell_type": "code",
   "execution_count": null,
   "metadata": {},
   "outputs": [],
   "source": [
    "# TODO 6: Implement the multivariate normal gaussian distribution with parameters mu and sigma, and return the\n",
    "#  value in prob.\n",
    "def multivariate_normal_gaussian(X, mu, sigma):\n",
    "    prob = None\n",
    "    return prob"
   ]
  },
  {
   "cell_type": "code",
   "execution_count": null,
   "metadata": {
    "scrolled": true
   },
   "outputs": [],
   "source": [
    "### Test your implementation ###\n",
    "### DO NOT CHANGE THIS CODE ###\n",
    "np.random.seed(90)\n",
    "assertion_x = np.random.rand(3).reshape(-1,1)\n",
    "assertion_mu = np.random.rand(3).reshape(-1,1)\n",
    "assertion_sigma = np.random.rand(9).reshape(3,3)\n",
    "assertion_probability = multivariate_normal_gaussian(assertion_x, assertion_mu, assertion_sigma)[0][0]\n",
    "assertion_probability = round(assertion_probability, 1)\n",
    "\n",
    "assert assertion_probability == 7.8,\\\n",
    "    'Incorrect Gaussian Probability calculated'"
   ]
  },
  {
   "cell_type": "markdown",
   "metadata": {},
   "source": [
    "**The final step** is to go for each test point, calculate its posterior probability against each class, then classify it to the class with the highest posterior probability."
   ]
  },
  {
   "cell_type": "code",
   "execution_count": null,
   "metadata": {
    "scrolled": true
   },
   "outputs": [],
   "source": [
    "# TODO [7]: Apply the Bayesian Classifier to predict the classes of the test points.\n",
    "predicted_classes = [] # predicted_classes: A numpy array of size (K, 1) where K is the number of points in the test set. Every element in this array\n",
    "                       # contains the predicted class of Bayes classifier for this test point.\n",
    "\n",
    "for i in range(X_Test.shape[0]):\n",
    "    print(\"For test point:\", X_Test[i])\n",
    "    classProbabilities = np.zeros(numClasses)\n",
    "    # TODO [7.A]: Compute the probability that the test point X_Test[i] belongs to each class in numClasses.\n",
    "    #  Fill the array classProbabilities accordingly.\n",
    "    \n",
    "    \n",
    "    # TODO [7.B]: Find the prediction of the test point X_Test[i] and append it to the predicted_classes array.\n",
    "    \n",
    "\n",
    "    print('Class Probabilities: ', classProbabilities)  # the first class is the left most in the scatter plot\n",
    "    print(\"Predicted class is :\", predicted_classes[i])\n",
    "    print(\"******************************************************************************\")\n"
   ]
  },
  {
   "cell_type": "code",
   "execution_count": null,
   "metadata": {},
   "outputs": [],
   "source": [
    "# TODO [8]: Compute the accuracy of the generated Bayesian classifier \n",
    "# WITHOUT USING ANY FOR LOOPs.\n",
    "accuracy = 0\n",
    "print('Accuracy = ' + str(round(accuracy,4) * 100) + '%')"
   ]
  },
  {
   "cell_type": "code",
   "execution_count": null,
   "metadata": {},
   "outputs": [],
   "source": [
    "# TODO [9]: Generate a 3D-plot for the generated distributions. x-axis and y-axis represent the features of the data, \n",
    "#           where z-axis represent the Gaussian probability N at this point.\n",
    "\n",
    "x = np.linspace(-10, 10, 300)\n",
    "y = np.linspace(-10, 15, 300)\n",
    "X, Y = np.meshgrid(x, y)\n",
    "Z = np.zeros(X.shape)\n",
    "\n",
    "for i in range(Z.shape[0]):\n",
    "    for j in range(Z.shape[1]):\n",
    "        # TODO [9]: Fill in the matrix Z which will represent the probability distribution of every point.\n",
    "        # Z[i,j] represents the joint probability N(x,y) for x = i and y = j. \n",
    "        # We want to draw the gaussian probability N(x,y) for all points. \n",
    "        Z[i, j] = 0\n",
    "\n",
    "# Make a 3D plot, do not change code\n",
    "fig = plt.figure()\n",
    "ax = fig.gca(projection='3d')\n",
    "ax.plot_surface(X, Y, Z, cmap='viridis', linewidth=0)\n",
    "ax.set_xlabel('X axis')\n",
    "ax.set_ylabel('Y axis')\n",
    "ax.set_zlabel('Z axis')\n",
    "plt.show()"
   ]
  },
  {
   "cell_type": "code",
   "execution_count": null,
   "metadata": {},
   "outputs": [],
   "source": [
    "# How can you judge your plot is correct?\n",
    "'''\n",
    "    Your Answer:\n",
    "'''"
   ]
  }
 ],
 "metadata": {
  "kernelspec": {
   "display_name": "Python 3",
   "language": "python",
   "name": "python3"
  },
  "language_info": {
   "codemirror_mode": {
    "name": "ipython",
    "version": 3
   },
   "file_extension": ".py",
   "mimetype": "text/x-python",
   "name": "python",
   "nbconvert_exporter": "python",
   "pygments_lexer": "ipython3",
   "version": "3.9.12"
  }
 },
 "nbformat": 4,
 "nbformat_minor": 4
}
